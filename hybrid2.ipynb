{
 "cells": [
  {
   "cell_type": "code",
   "execution_count": 1,
   "id": "be879050",
   "metadata": {},
   "outputs": [],
   "source": [
    "import pandas as pd\n",
    "import numpy as np\n",
    "df=pd.read_csv(\"/Users/maloofbashir/Downloads/oasis_longitudinal.csv\")"
   ]
  },
  {
   "cell_type": "code",
   "execution_count": 2,
   "id": "83f206c8",
   "metadata": {},
   "outputs": [],
   "source": [
    "df['M/F']=df['M/F'].replace(['F','M'],[0,1])\n",
    "df['Group']=df['Group'].replace(['Converted'],['Demented'])\n",
    "df['Group']=df['Group'].replace(['Nondemented','Demented'],[0,1])\n",
    "df=df.drop(['MRI ID' ,'Visit' , 'Hand'],axis=1)\n",
    "\n",
    "mean_value=int(df['SES'].median())\n",
    "df['SES'].fillna(value=mean_value,inplace=True)\n",
    "\n",
    "mean_value_1=int(df['MMSE'].median())\n",
    "df['MMSE'].fillna(value=mean_value,inplace=True)\n",
    "\n"
   ]
  },
  {
   "cell_type": "code",
   "execution_count": 3,
   "id": "047d948c",
   "metadata": {},
   "outputs": [],
   "source": [
    "from sklearn.model_selection import train_test_split\n",
    "from sklearn import preprocessing\n",
    "from sklearn.preprocessing import MinMaxScaler \n",
    "from sklearn.model_selection import cross_val_score\n",
    "from sklearn.metrics import confusion_matrix, accuracy_score, recall_score, roc_curve, auc"
   ]
  },
  {
   "cell_type": "code",
   "execution_count": 6,
   "id": "961c7d4f",
   "metadata": {},
   "outputs": [],
   "source": [
    "Y = df['Group'].values\n",
    "X = df[['M/F', 'Age', 'EDUC', 'SES', 'MMSE', 'eTIV', 'nWBV', 'ASF']]\n",
    "X_trainval, X_test, Y_trainval, Y_test = train_test_split(X, Y, random_state=0)\n",
    "scaler = MinMaxScaler().fit(X_trainval)\n",
    "X_trainval_scaled = scaler.transform(X_trainval)\n",
    "X_test_scaled = scaler.transform(X_test)\n",
    "from sklearn.linear_model import LogisticRegression\n",
    "from sklearn.svm import SVC"
   ]
  },
  {
   "cell_type": "code",
   "execution_count": 9,
   "id": "9e3f946c",
   "metadata": {},
   "outputs": [],
   "source": [
    "acc=[]\n",
    "tunning_range=[0.001, 0.1, 1, 10, 100]\n",
    "kfolds=5\n",
    "from sklearn.model_selection import KFold\n",
    "best_score=0"
   ]
  },
  {
   "cell_type": "code",
   "execution_count": null,
   "id": "f4c560ac",
   "metadata": {},
   "outputs": [],
   "source": [
    "from sklearn.linear_model import LogisticRegression\n",
    "from sklearn.svm import SVC\n",
    "acc=[]\n",
    "tunning_range=[0.001, 0.1, 1, 10, 100]\n",
    "kfolds=5\n",
    "from sklearn.model_selection import KFold\n",
    "best_score=0\n",
    " # set the number of folds\n",
    "kfolds = KFold(n_splits=5, random_state=1, shuffle=True)\n",
    "\n",
    "for c in [0.001, 0.1,0.5, 1 ,5, 10,20,50 ,100,200]:\n",
    "    logRegModel = LogisticRegression(C=c)\n",
    "    # perform cross-validation\n",
    "    scores = cross_val_score(logRegModel, X_trainval, Y_trainval, cv=kfolds, scoring='accuracy') # Get recall for each parameter setting\n",
    "    # compute mean cross-validation accuracy\n",
    "    score = np.mean(scores)\n",
    "    \n",
    "    # Find the best parameters and score\n",
    "    if score > best_score:\n",
    "        vale_c=c\n",
    "        best_score = score\n",
    "        best_parameters = c"
   ]
  },
  {
   "cell_type": "code",
   "execution_count": 7,
   "id": "6d3e2249",
   "metadata": {},
   "outputs": [
    {
     "name": "stdout",
     "output_type": "stream",
     "text": [
      "Test accuracy with best C parameter is 0.8085106382978723\n"
     ]
    }
   ],
   "source": [
    "best_parameters=100\n",
    "SelectedLogRegModel = LogisticRegression(C=best_parameters).fit(X_trainval_scaled, Y_trainval)\n",
    "\n",
    "test_score = SelectedLogRegModel.score(X_test_scaled, Y_test)\n",
    "PredictedOutput = SelectedLogRegModel.predict(X_test_scaled)\n",
    "test_recall = recall_score(Y_test, PredictedOutput, pos_label=1)\n",
    "fpr, tpr, thresholds = roc_curve(Y_test, PredictedOutput, pos_label=1)\n",
    "test_auc = auc(fpr, tpr)\n",
    "print(\"Test accuracy with best C parameter is\", test_score)"
   ]
  },
  {
   "cell_type": "markdown",
   "id": "272f63ed",
   "metadata": {},
   "source": [
    "# SVM"
   ]
  },
  {
   "cell_type": "code",
   "execution_count": 10,
   "id": "c8ac5791",
   "metadata": {},
   "outputs": [],
   "source": [
    "best_score = 0\n",
    "\n",
    "for c_paramter in [0.001, 0.01, 0.1, 1, 10, 100, 1000]: #iterate over the values we need to try for the parameter C\n",
    "    for gamma_paramter in [0.001, 0.01, 0.1, 1, 10, 100, 1000]: #iterate over the values we need to try for the parameter gamma\n",
    "        for k_parameter in ['rbf', 'linear', 'poly', 'sigmoid']: # iterate over the values we need to try for the kernel parameter\n",
    "            svmModel = SVC(kernel=k_parameter, C=c_paramter, gamma=gamma_paramter) #define the model\n",
    "            # perform cross-validation\n",
    "            scores = cross_val_score(svmModel, X_trainval_scaled, Y_trainval, cv=kfolds, scoring='accuracy')\n",
    "            # the training set will be split internally into training and cross validation\n",
    "\n",
    "            # compute mean cross-validation accuracy\n",
    "            score = np.mean(scores)\n",
    "            # if we got a better score, store the score and parameters\n",
    "            if score > best_score:\n",
    "                best_score = score #store the score \n",
    "                best_parameter_c = c_paramter #store the parameter c\n",
    "                best_parameter_gamma = gamma_paramter #store the parameter gamma\n",
    "                best_parameter_k = k_parameter"
   ]
  },
  {
   "cell_type": "code",
   "execution_count": 11,
   "id": "00693d19",
   "metadata": {},
   "outputs": [
    {
     "name": "stdout",
     "output_type": "stream",
     "text": [
      "Test accuracy with the best parameters is 0.8085106382978723\n"
     ]
    }
   ],
   "source": [
    "SelectedSVMmodel = SVC(C=best_parameter_c, gamma=best_parameter_gamma, kernel=best_parameter_k,probability=True).fit(X_trainval_scaled, Y_trainval)\n",
    "\n",
    "test_score = SelectedSVMmodel.score(X_test_scaled, Y_test)\n",
    "PredictedOutput = SelectedSVMmodel.predict(X_test_scaled)\n",
    "test_recall = recall_score(Y_test, PredictedOutput, pos_label=1)\n",
    "fpr, tpr, thresholds = roc_curve(Y_test, PredictedOutput, pos_label=1)\n",
    "test_auc = auc(fpr, tpr)\n",
    "\n",
    "print(\"Test accuracy with the best parameters is\", test_score)"
   ]
  },
  {
   "cell_type": "code",
   "execution_count": null,
   "id": "47cb89a4",
   "metadata": {},
   "outputs": [],
   "source": []
  },
  {
   "cell_type": "markdown",
   "id": "508b45e2",
   "metadata": {},
   "source": [
    "# Hybrid Model-1"
   ]
  },
  {
   "cell_type": "markdown",
   "id": "3d52b057",
   "metadata": {},
   "source": [
    "### In this method SVM model is used to pre-process the data and then feed the output into a neural network for classification."
   ]
  },
  {
   "cell_type": "code",
   "execution_count": 12,
   "id": "b7f0c7e5",
   "metadata": {},
   "outputs": [],
   "source": [
    "from sklearn.svm import SVC\n",
    "from sklearn.datasets import make_classification\n",
    "from sklearn.model_selection import train_test_split\n",
    "from keras.models import Sequential\n",
    "from keras.layers import Dense\n"
   ]
  },
  {
   "cell_type": "code",
   "execution_count": 13,
   "id": "c3b5decc",
   "metadata": {},
   "outputs": [
    {
     "name": "stdout",
     "output_type": "stream",
     "text": [
      "Metal device set to: Apple M1\n"
     ]
    },
    {
     "name": "stderr",
     "output_type": "stream",
     "text": [
      "2023-01-15 21:36:07.256479: I tensorflow/core/common_runtime/pluggable_device/pluggable_device_factory.cc:305] Could not identify NUMA node of platform GPU ID 0, defaulting to 0. Your kernel may not have been built with NUMA support.\n",
      "2023-01-15 21:36:07.256562: I tensorflow/core/common_runtime/pluggable_device/pluggable_device_factory.cc:271] Created TensorFlow device (/job:localhost/replica:0/task:0/device:GPU:0 with 0 MB memory) -> physical PluggableDevice (device: 0, name: METAL, pci bus id: <undefined>)\n"
     ]
    }
   ],
   "source": [
    "model = Sequential()"
   ]
  },
  {
   "cell_type": "code",
   "execution_count": 14,
   "id": "0729bcd4",
   "metadata": {},
   "outputs": [],
   "source": [
    "X_train_processed = SelectedSVMmodel.predict_proba(X_trainval_scaled)\n",
    "X_test_processed = SelectedSVMmodel.predict_proba(X_test_scaled)"
   ]
  },
  {
   "cell_type": "code",
   "execution_count": 15,
   "id": "7140c5f8",
   "metadata": {},
   "outputs": [],
   "source": [
    "model.add(Dense(10, input_dim=X_train_processed.shape[1], activation='relu'))"
   ]
  },
  {
   "cell_type": "code",
   "execution_count": 16,
   "id": "8d1fe062",
   "metadata": {},
   "outputs": [],
   "source": [
    "model.add(Dense(1, activation='sigmoid'))"
   ]
  },
  {
   "cell_type": "code",
   "execution_count": 17,
   "id": "8a97e31c",
   "metadata": {},
   "outputs": [],
   "source": [
    "model.compile(loss='binary_crossentropy', optimizer='adam', metrics=['accuracy'])"
   ]
  },
  {
   "cell_type": "code",
   "execution_count": 19,
   "id": "94bf127f",
   "metadata": {},
   "outputs": [
    {
     "name": "stdout",
     "output_type": "stream",
     "text": [
      "Epoch 1/10\n"
     ]
    },
    {
     "name": "stderr",
     "output_type": "stream",
     "text": [
      "2023-01-15 21:37:20.613632: W tensorflow/core/platform/profile_utils/cpu_utils.cc:128] Failed to get CPU frequency: 0 Hz\n",
      "2023-01-15 21:37:20.784080: I tensorflow/core/grappler/optimizers/custom_graph_optimizer_registry.cc:113] Plugin optimizer for device_type GPU is enabled.\n"
     ]
    },
    {
     "name": "stdout",
     "output_type": "stream",
     "text": [
      "9/9 [==============================] - 0s 8ms/step - loss: 0.6006 - accuracy: 1.0000\n",
      "Epoch 2/10\n",
      "9/9 [==============================] - 0s 5ms/step - loss: 0.5910 - accuracy: 1.0000\n",
      "Epoch 3/10\n",
      "9/9 [==============================] - 0s 5ms/step - loss: 0.5814 - accuracy: 1.0000\n",
      "Epoch 4/10\n",
      "9/9 [==============================] - 0s 5ms/step - loss: 0.5718 - accuracy: 1.0000\n",
      "Epoch 5/10\n",
      "9/9 [==============================] - 0s 5ms/step - loss: 0.5620 - accuracy: 1.0000\n",
      "Epoch 6/10\n",
      "9/9 [==============================] - 0s 4ms/step - loss: 0.5521 - accuracy: 1.0000\n",
      "Epoch 7/10\n",
      "9/9 [==============================] - 0s 5ms/step - loss: 0.5420 - accuracy: 1.0000\n",
      "Epoch 8/10\n",
      "9/9 [==============================] - 0s 4ms/step - loss: 0.5317 - accuracy: 1.0000\n",
      "Epoch 9/10\n",
      "9/9 [==============================] - 0s 5ms/step - loss: 0.5213 - accuracy: 1.0000\n",
      "Epoch 10/10\n",
      "9/9 [==============================] - 0s 5ms/step - loss: 0.5107 - accuracy: 1.0000\n"
     ]
    },
    {
     "data": {
      "text/plain": [
       "<keras.callbacks.History at 0x15c552880>"
      ]
     },
     "execution_count": 19,
     "metadata": {},
     "output_type": "execute_result"
    }
   ],
   "source": [
    "model.fit(X_train_processed,Y_trainval , epochs=10, batch_size=32)"
   ]
  },
  {
   "cell_type": "code",
   "execution_count": 21,
   "id": "38da6b33",
   "metadata": {
    "scrolled": true
   },
   "outputs": [
    {
     "name": "stdout",
     "output_type": "stream",
     "text": [
      "3/3 [==============================] - 0s 12ms/step - loss: 0.5956 - accuracy: 0.8298\n",
      "Test accuracy: 82.98%\n"
     ]
    },
    {
     "name": "stderr",
     "output_type": "stream",
     "text": [
      "2023-01-15 21:37:38.005284: I tensorflow/core/grappler/optimizers/custom_graph_optimizer_registry.cc:113] Plugin optimizer for device_type GPU is enabled.\n"
     ]
    }
   ],
   "source": [
    "test_loss, test_acc = model.evaluate(X_test_processed, Y_test)\n",
    "print(\"Test accuracy: {:.2f}%\".format(test_acc*100))"
   ]
  },
  {
   "cell_type": "markdown",
   "id": "18333dc3",
   "metadata": {},
   "source": [
    "## So with this model we are able to achieve accuracy of 82.98%"
   ]
  },
  {
   "cell_type": "code",
   "execution_count": null,
   "id": "c359c559",
   "metadata": {},
   "outputs": [],
   "source": []
  },
  {
   "cell_type": "code",
   "execution_count": null,
   "id": "72b0e48e",
   "metadata": {},
   "outputs": [],
   "source": []
  },
  {
   "cell_type": "markdown",
   "id": "21f69d7b",
   "metadata": {},
   "source": [
    "# HYBRID MODEL-II"
   ]
  },
  {
   "cell_type": "markdown",
   "id": "212e38f4",
   "metadata": {},
   "source": [
    "### One approach is to use the SVM model to select the most important features of the data, and then use the selected features as input to the neural network."
   ]
  },
  {
   "cell_type": "code",
   "execution_count": 22,
   "id": "1d74e2ae",
   "metadata": {},
   "outputs": [],
   "source": [
    "from sklearn.feature_selection import SelectFromModel"
   ]
  },
  {
   "cell_type": "code",
   "execution_count": 25,
   "id": "3ec7dd72",
   "metadata": {},
   "outputs": [
    {
     "data": {
      "text/html": [
       "<style>#sk-container-id-1 {color: black;background-color: white;}#sk-container-id-1 pre{padding: 0;}#sk-container-id-1 div.sk-toggleable {background-color: white;}#sk-container-id-1 label.sk-toggleable__label {cursor: pointer;display: block;width: 100%;margin-bottom: 0;padding: 0.3em;box-sizing: border-box;text-align: center;}#sk-container-id-1 label.sk-toggleable__label-arrow:before {content: \"▸\";float: left;margin-right: 0.25em;color: #696969;}#sk-container-id-1 label.sk-toggleable__label-arrow:hover:before {color: black;}#sk-container-id-1 div.sk-estimator:hover label.sk-toggleable__label-arrow:before {color: black;}#sk-container-id-1 div.sk-toggleable__content {max-height: 0;max-width: 0;overflow: hidden;text-align: left;background-color: #f0f8ff;}#sk-container-id-1 div.sk-toggleable__content pre {margin: 0.2em;color: black;border-radius: 0.25em;background-color: #f0f8ff;}#sk-container-id-1 input.sk-toggleable__control:checked~div.sk-toggleable__content {max-height: 200px;max-width: 100%;overflow: auto;}#sk-container-id-1 input.sk-toggleable__control:checked~label.sk-toggleable__label-arrow:before {content: \"▾\";}#sk-container-id-1 div.sk-estimator input.sk-toggleable__control:checked~label.sk-toggleable__label {background-color: #d4ebff;}#sk-container-id-1 div.sk-label input.sk-toggleable__control:checked~label.sk-toggleable__label {background-color: #d4ebff;}#sk-container-id-1 input.sk-hidden--visually {border: 0;clip: rect(1px 1px 1px 1px);clip: rect(1px, 1px, 1px, 1px);height: 1px;margin: -1px;overflow: hidden;padding: 0;position: absolute;width: 1px;}#sk-container-id-1 div.sk-estimator {font-family: monospace;background-color: #f0f8ff;border: 1px dotted black;border-radius: 0.25em;box-sizing: border-box;margin-bottom: 0.5em;}#sk-container-id-1 div.sk-estimator:hover {background-color: #d4ebff;}#sk-container-id-1 div.sk-parallel-item::after {content: \"\";width: 100%;border-bottom: 1px solid gray;flex-grow: 1;}#sk-container-id-1 div.sk-label:hover label.sk-toggleable__label {background-color: #d4ebff;}#sk-container-id-1 div.sk-serial::before {content: \"\";position: absolute;border-left: 1px solid gray;box-sizing: border-box;top: 0;bottom: 0;left: 50%;z-index: 0;}#sk-container-id-1 div.sk-serial {display: flex;flex-direction: column;align-items: center;background-color: white;padding-right: 0.2em;padding-left: 0.2em;position: relative;}#sk-container-id-1 div.sk-item {position: relative;z-index: 1;}#sk-container-id-1 div.sk-parallel {display: flex;align-items: stretch;justify-content: center;background-color: white;position: relative;}#sk-container-id-1 div.sk-item::before, #sk-container-id-1 div.sk-parallel-item::before {content: \"\";position: absolute;border-left: 1px solid gray;box-sizing: border-box;top: 0;bottom: 0;left: 50%;z-index: -1;}#sk-container-id-1 div.sk-parallel-item {display: flex;flex-direction: column;z-index: 1;position: relative;background-color: white;}#sk-container-id-1 div.sk-parallel-item:first-child::after {align-self: flex-end;width: 50%;}#sk-container-id-1 div.sk-parallel-item:last-child::after {align-self: flex-start;width: 50%;}#sk-container-id-1 div.sk-parallel-item:only-child::after {width: 0;}#sk-container-id-1 div.sk-dashed-wrapped {border: 1px dashed gray;margin: 0 0.4em 0.5em 0.4em;box-sizing: border-box;padding-bottom: 0.4em;background-color: white;}#sk-container-id-1 div.sk-label label {font-family: monospace;font-weight: bold;display: inline-block;line-height: 1.2em;}#sk-container-id-1 div.sk-label-container {text-align: center;}#sk-container-id-1 div.sk-container {/* jupyter's `normalize.less` sets `[hidden] { display: none; }` but bootstrap.min.css set `[hidden] { display: none !important; }` so we also need the `!important` here to be able to override the default hidden behavior on the sphinx rendered scikit-learn.org. See: https://github.com/scikit-learn/scikit-learn/issues/21755 */display: inline-block !important;position: relative;}#sk-container-id-1 div.sk-text-repr-fallback {display: none;}</style><div id=\"sk-container-id-1\" class=\"sk-top-container\"><div class=\"sk-text-repr-fallback\"><pre>SVC(C=0.1, kernel=&#x27;linear&#x27;, probability=True)</pre><b>In a Jupyter environment, please rerun this cell to show the HTML representation or trust the notebook. <br />On GitHub, the HTML representation is unable to render, please try loading this page with nbviewer.org.</b></div><div class=\"sk-container\" hidden><div class=\"sk-item\"><div class=\"sk-estimator sk-toggleable\"><input class=\"sk-toggleable__control sk-hidden--visually\" id=\"sk-estimator-id-1\" type=\"checkbox\" checked><label for=\"sk-estimator-id-1\" class=\"sk-toggleable__label sk-toggleable__label-arrow\">SVC</label><div class=\"sk-toggleable__content\"><pre>SVC(C=0.1, kernel=&#x27;linear&#x27;, probability=True)</pre></div></div></div></div></div>"
      ],
      "text/plain": [
       "SVC(C=0.1, kernel='linear', probability=True)"
      ]
     },
     "execution_count": 25,
     "metadata": {},
     "output_type": "execute_result"
    }
   ],
   "source": [
    "svm = SVC(kernel='linear', probability=True, C=0.1)\n",
    "svm.fit(X_trainval_scaled, Y_trainval)"
   ]
  },
  {
   "cell_type": "code",
   "execution_count": 26,
   "id": "1782a174",
   "metadata": {},
   "outputs": [],
   "source": [
    "selector = SelectFromModel(svm, prefit=True)\n",
    "X_train_processed = selector.transform(X_trainval_scaled)\n",
    "X_test_processed = selector.transform(X_test_scaled)"
   ]
  },
  {
   "cell_type": "code",
   "execution_count": null,
   "id": "8d4ecc88",
   "metadata": {},
   "outputs": [],
   "source": []
  },
  {
   "cell_type": "code",
   "execution_count": 27,
   "id": "d36c2a81",
   "metadata": {},
   "outputs": [],
   "source": [
    "model = Sequential()"
   ]
  },
  {
   "cell_type": "code",
   "execution_count": 28,
   "id": "ab3cd5f3",
   "metadata": {},
   "outputs": [],
   "source": [
    "model.add(Dense(10, input_dim=X_train_processed.shape[1], activation='relu'))"
   ]
  },
  {
   "cell_type": "code",
   "execution_count": 29,
   "id": "5d1ef19a",
   "metadata": {},
   "outputs": [],
   "source": [
    "model.add(Dense(1, activation='sigmoid'))\n",
    "model.compile(loss='binary_crossentropy', optimizer='adam', metrics=['accuracy'])\n"
   ]
  },
  {
   "cell_type": "code",
   "execution_count": 30,
   "id": "6cc613f0",
   "metadata": {},
   "outputs": [
    {
     "name": "stdout",
     "output_type": "stream",
     "text": [
      "Epoch 1/10\n",
      "9/9 [==============================] - 0s 8ms/step - loss: 0.6513 - accuracy: 0.6165\n",
      "Epoch 2/10\n",
      "9/9 [==============================] - 0s 5ms/step - loss: 0.6494 - accuracy: 0.6165\n",
      "Epoch 3/10\n",
      "1/9 [==>...........................] - ETA: 0s - loss: 0.6473 - accuracy: 0.6250"
     ]
    },
    {
     "name": "stderr",
     "output_type": "stream",
     "text": [
      "2023-01-15 21:43:12.204103: I tensorflow/core/grappler/optimizers/custom_graph_optimizer_registry.cc:113] Plugin optimizer for device_type GPU is enabled.\n"
     ]
    },
    {
     "name": "stdout",
     "output_type": "stream",
     "text": [
      "9/9 [==============================] - 0s 5ms/step - loss: 0.6482 - accuracy: 0.6165\n",
      "Epoch 4/10\n",
      "9/9 [==============================] - 0s 5ms/step - loss: 0.6467 - accuracy: 0.6165\n",
      "Epoch 5/10\n",
      "9/9 [==============================] - 0s 5ms/step - loss: 0.6456 - accuracy: 0.6165\n",
      "Epoch 6/10\n",
      "9/9 [==============================] - 0s 5ms/step - loss: 0.6442 - accuracy: 0.6165\n",
      "Epoch 7/10\n",
      "9/9 [==============================] - 0s 5ms/step - loss: 0.6426 - accuracy: 0.6165\n",
      "Epoch 8/10\n",
      "9/9 [==============================] - 0s 4ms/step - loss: 0.6411 - accuracy: 0.6165\n",
      "Epoch 9/10\n",
      "9/9 [==============================] - 0s 5ms/step - loss: 0.6399 - accuracy: 0.6165\n",
      "Epoch 10/10\n",
      "9/9 [==============================] - 0s 5ms/step - loss: 0.6388 - accuracy: 0.6165\n"
     ]
    },
    {
     "data": {
      "text/plain": [
       "<keras.callbacks.History at 0x1693f9730>"
      ]
     },
     "execution_count": 30,
     "metadata": {},
     "output_type": "execute_result"
    }
   ],
   "source": [
    "model.fit(X_train_processed, Y_trainval, epochs=10, batch_size=32)"
   ]
  },
  {
   "cell_type": "code",
   "execution_count": 31,
   "id": "dc8dd983",
   "metadata": {},
   "outputs": [
    {
     "name": "stdout",
     "output_type": "stream",
     "text": [
      "3/3 [==============================] - 0s 11ms/step - loss: 0.6656 - accuracy: 0.5957\n",
      "Test accuracy: 59.57%\n"
     ]
    },
    {
     "name": "stderr",
     "output_type": "stream",
     "text": [
      "2023-01-15 21:43:15.878233: I tensorflow/core/grappler/optimizers/custom_graph_optimizer_registry.cc:113] Plugin optimizer for device_type GPU is enabled.\n"
     ]
    }
   ],
   "source": [
    "test_loss, test_acc = model.evaluate(X_test_processed, Y_test)\n",
    "print(\"Test accuracy: {:.2f}%\".format(test_acc*100))"
   ]
  },
  {
   "cell_type": "markdown",
   "id": "9fcaa7c3",
   "metadata": {},
   "source": [
    "## Getting the model accurcay of 59.57%"
   ]
  },
  {
   "cell_type": "code",
   "execution_count": null,
   "id": "f359008c",
   "metadata": {},
   "outputs": [],
   "source": []
  },
  {
   "cell_type": "markdown",
   "id": "f7ef8f93",
   "metadata": {},
   "source": [
    "# HYBRID MODEL-III"
   ]
  },
  {
   "cell_type": "markdown",
   "id": "b435f3f7",
   "metadata": {},
   "source": [
    "### ### use the SVM model to select the most important features of the data, and then use the selected features as input to the neural network."
   ]
  },
  {
   "cell_type": "code",
   "execution_count": 32,
   "id": "05a93e8d",
   "metadata": {},
   "outputs": [],
   "source": [
    "from sklearn.svm import SVC\n",
    "from sklearn.datasets import make_classification\n",
    "from sklearn.model_selection import train_test_split\n",
    "from keras.models import Sequential\n",
    "from keras.layers import Dense\n",
    "from keras.layers import concatenate\n",
    "from keras.layers import Input\n",
    "from keras.models import Model"
   ]
  },
  {
   "cell_type": "code",
   "execution_count": 33,
   "id": "85b0b1e8",
   "metadata": {},
   "outputs": [],
   "source": [
    "\n",
    "svm_train_pred = SelectedSVMmodel.predict_proba(X_trainval_scaled)\n",
    "svm_test_pred = SelectedSVMmodel.predict_proba(X_test_scaled)"
   ]
  },
  {
   "cell_type": "code",
   "execution_count": 34,
   "id": "3bc25e71",
   "metadata": {},
   "outputs": [],
   "source": [
    "input_nn = Input(shape=(X_trainval_scaled.shape[1],))\n",
    "input_svm = Input(shape=(svm_train_pred.shape[1],))"
   ]
  },
  {
   "cell_type": "code",
   "execution_count": 35,
   "id": "4dd1ac74",
   "metadata": {},
   "outputs": [],
   "source": [
    "concat = concatenate([input_nn, input_svm])"
   ]
  },
  {
   "cell_type": "code",
   "execution_count": 36,
   "id": "b7d33b1f",
   "metadata": {},
   "outputs": [],
   "source": [
    "hidden = Dense(10, activation='relu')(concat)\n",
    "output = Dense(1, activation='sigmoid')(hidden)"
   ]
  },
  {
   "cell_type": "code",
   "execution_count": 37,
   "id": "8ee06364",
   "metadata": {},
   "outputs": [],
   "source": [
    "model = Model(inputs=[input_nn, input_svm], outputs=output)\n",
    "model.compile(loss='binary_crossentropy', optimizer='adam', metrics=['accuracy'])"
   ]
  },
  {
   "cell_type": "code",
   "execution_count": 38,
   "id": "74ad8a7d",
   "metadata": {},
   "outputs": [
    {
     "name": "stdout",
     "output_type": "stream",
     "text": [
      "Epoch 1/10\n",
      "9/9 [==============================] - 0s 9ms/step - loss: 0.7934 - accuracy: 0.3692\n",
      "Epoch 2/10\n",
      "1/9 [==>...........................] - ETA: 0s - loss: 0.8271 - accuracy: 0.2812"
     ]
    },
    {
     "name": "stderr",
     "output_type": "stream",
     "text": [
      "2023-01-15 21:43:47.869500: I tensorflow/core/grappler/optimizers/custom_graph_optimizer_registry.cc:113] Plugin optimizer for device_type GPU is enabled.\n"
     ]
    },
    {
     "name": "stdout",
     "output_type": "stream",
     "text": [
      "9/9 [==============================] - 0s 5ms/step - loss: 0.7608 - accuracy: 0.3369\n",
      "Epoch 3/10\n",
      "9/9 [==============================] - 0s 7ms/step - loss: 0.7309 - accuracy: 0.3082\n",
      "Epoch 4/10\n",
      "9/9 [==============================] - 0s 5ms/step - loss: 0.7037 - accuracy: 0.3441\n",
      "Epoch 5/10\n",
      "9/9 [==============================] - 0s 5ms/step - loss: 0.6784 - accuracy: 0.5520\n",
      "Epoch 6/10\n",
      "9/9 [==============================] - 0s 5ms/step - loss: 0.6540 - accuracy: 0.6165\n",
      "Epoch 7/10\n",
      "9/9 [==============================] - 0s 5ms/step - loss: 0.6314 - accuracy: 0.6380\n",
      "Epoch 8/10\n",
      "9/9 [==============================] - 0s 5ms/step - loss: 0.6090 - accuracy: 0.6452\n",
      "Epoch 9/10\n",
      "9/9 [==============================] - 0s 6ms/step - loss: 0.5880 - accuracy: 0.6487\n",
      "Epoch 10/10\n",
      "9/9 [==============================] - 0s 5ms/step - loss: 0.5677 - accuracy: 0.6559\n"
     ]
    },
    {
     "data": {
      "text/plain": [
       "<keras.callbacks.History at 0x169425d30>"
      ]
     },
     "execution_count": 38,
     "metadata": {},
     "output_type": "execute_result"
    }
   ],
   "source": [
    "model.fit([X_trainval_scaled, svm_train_pred], Y_trainval, epochs=10, batch_size=32)"
   ]
  },
  {
   "cell_type": "code",
   "execution_count": 39,
   "id": "46bf6961",
   "metadata": {},
   "outputs": [
    {
     "name": "stdout",
     "output_type": "stream",
     "text": [
      "3/3 [==============================] - 0s 14ms/step - loss: 0.6212 - accuracy: 0.6064\n",
      "Test accuracy: 60.64%\n"
     ]
    },
    {
     "name": "stderr",
     "output_type": "stream",
     "text": [
      "2023-01-15 21:43:50.885160: I tensorflow/core/grappler/optimizers/custom_graph_optimizer_registry.cc:113] Plugin optimizer for device_type GPU is enabled.\n"
     ]
    }
   ],
   "source": [
    "test_loss, test_acc = model.evaluate([X_test_scaled, svm_test_pred], Y_test)\n",
    "print(\"Test accuracy: {:.2f}%\".format(test_acc*100))"
   ]
  },
  {
   "cell_type": "markdown",
   "id": "a2bc2acb",
   "metadata": {},
   "source": [
    "# Getting the model accuracy of 60.64%"
   ]
  },
  {
   "cell_type": "code",
   "execution_count": null,
   "id": "634c0d2e",
   "metadata": {},
   "outputs": [],
   "source": []
  }
 ],
 "metadata": {
  "kernelspec": {
   "display_name": "Python 3.9 (tensorflow)",
   "language": "python",
   "name": "tensorflow"
  },
  "language_info": {
   "codemirror_mode": {
    "name": "ipython",
    "version": 3
   },
   "file_extension": ".py",
   "mimetype": "text/x-python",
   "name": "python",
   "nbconvert_exporter": "python",
   "pygments_lexer": "ipython3",
   "version": "3.9.13"
  }
 },
 "nbformat": 4,
 "nbformat_minor": 5
}
